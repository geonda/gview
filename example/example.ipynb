{
 "cells": [
  {
   "cell_type": "code",
   "execution_count": 1,
   "metadata": {},
   "outputs": [],
   "source": [
    "from gview import visual\n",
    "from siman.calc_manage import smart_structure_read"
   ]
  },
  {
   "cell_type": "code",
   "execution_count": 2,
   "metadata": {},
   "outputs": [],
   "source": [
    "gb = smart_structure_read('test_structure.POSCAR')"
   ]
  },
  {
   "cell_type": "code",
   "execution_count": 4,
   "metadata": {},
   "outputs": [],
   "source": [
    "ws = visual(gb)"
   ]
  },
  {
   "cell_type": "code",
   "execution_count": 5,
   "metadata": {},
   "outputs": [],
   "source": [
    "ws.plot(\n",
    "    param=dict(\n",
    "    bonds_color_scale='Viridis',\n",
    "    projection=True,\n",
    "    bonds=True,\n",
    "    bonds_color=True,\n",
    "    bonds_length=False,\n",
    "    cell_vectors=True,))"
   ]
  },
  {
   "cell_type": "code",
   "execution_count": 6,
   "metadata": {},
   "outputs": [
    {
     "data": {
      "application/vnd.plotly.v1+json": {
       "config": {
        "plotlyServerURL": "https://plot.ly"
       },
       "data": [
        {
         "line": {
          "color": "grey",
          "width": 1
         },
         "mode": "lines",
         "name": "cell",
         "showlegend": false,
         "type": "scatter",
         "x": [
          0,
          28.77
         ],
         "y": [
          0,
          0
         ]
        },
        {
         "line": {
          "color": "grey",
          "width": 1
         },
         "mode": "lines",
         "name": "cell",
         "showlegend": false,
         "type": "scatter",
         "x": [
          0,
          0
         ],
         "y": [
          0,
          0
         ]
        },
        {
         "line": {
          "color": "grey",
          "width": 1
         },
         "mode": "lines",
         "name": "cell",
         "showlegend": false,
         "type": "scatter",
         "x": [
          0,
          0
         ],
         "y": [
          0,
          5.840054
         ]
        },
        {
         "hoverinfo": "name+text",
         "line": {
          "color": "rgb(253, 231, 37)",
          "width": 7
         },
         "mode": "lines",
         "name": "Ni-O",
         "opacity": 0.4,
         "showlegend": false,
         "text": "2.15",
         "type": "scatter",
         "x": [
          20.686692998650223,
          21.757748131920096,
          22.828803265189972
         ],
         "y": [
          5.567312600249141,
          5.6093890866502685,
          5.651465573051396
         ]
        },
        {
         "hoverinfo": "name+text",
         "line": {
          "color": "rgb(53, 183, 121)",
          "width": 7
         },
         "mode": "lines",
         "name": "Ni-O",
         "opacity": 0.4,
         "showlegend": false,
         "text": "2.13",
         "type": "scatter",
         "x": [
          6.2756370960573244,
          7.340904213551944,
          8.406171331046563
         ],
         "y": [
          4.427752612083392,
          4.391466393234357,
          4.355180174385323
         ]
        },
        {
         "hoverinfo": "name+text",
         "line": {
          "color": "rgb(53, 183, 121)",
          "width": 7
         },
         "mode": "lines",
         "name": "Ni-O",
         "opacity": 0.4,
         "showlegend": false,
         "text": "2.09",
         "type": "scatter",
         "x": [
          4.19473601946385,
          4.144184800053825,
          4.093633580643799
         ],
         "y": [
          -0.03060206542900831,
          0.6549913917742144,
          1.340584848977437
         ]
        },
        {
         "hoverinfo": "name+text",
         "line": {
          "color": "rgb(53, 183, 121)",
          "width": 7
         },
         "mode": "lines",
         "name": "Ni-O",
         "opacity": 0.4,
         "showlegend": false,
         "text": "2.08",
         "type": "scatter",
         "x": [
          0.13161433411616988,
          0.18620548841409373,
          0.2407966427120176
         ],
         "y": [
          2.7992983537135587,
          2.119216290639289,
          1.439134227565019
         ]
        },
        {
         "hoverinfo": "name+text",
         "line": {
          "color": "rgb(53, 183, 121)",
          "width": 7
         },
         "mode": "lines",
         "name": "Ni-O",
         "opacity": 0.4,
         "showlegend": false,
         "text": "2.07",
         "type": "scatter",
         "x": [
          16.5606722223228,
          16.610136368778683,
          16.659600515234562
         ],
         "y": [
          2.751346087703381,
          3.4257246681363664,
          4.100103248569352
         ]
        },
        {
         "hoverinfo": "name+text",
         "line": {
          "color": "rgb(53, 183, 121)",
          "width": 7
         },
         "mode": "lines",
         "name": "Ni-O",
         "opacity": 0.4,
         "showlegend": false,
         "text": "2.06",
         "type": "scatter",
         "x": [
          24.81370224385273,
          24.875850054117343,
          24.937997864381956
         ],
         "y": [
          5.595866385873816,
          4.914250944025213,
          4.232635502176611
         ]
        },
        {
         "hoverinfo": "name+text",
         "line": {
          "color": "rgb(49, 104, 142)",
          "width": 7
         },
         "mode": "lines",
         "name": "Ni-O",
         "opacity": 0.4,
         "showlegend": false,
         "text": "2.04",
         "type": "scatter",
         "x": [
          20.686692998650223,
          19.668980611339016,
          18.651268224027806
         ],
         "y": [
          5.567312600249141,
          5.553711942054441,
          5.540111283859742
         ]
        },
        {
         "hoverinfo": "name+text",
         "line": {
          "color": "rgb(49, 104, 142)",
          "width": 7
         },
         "mode": "lines",
         "name": "Ni-O",
         "opacity": 0.4,
         "showlegend": false,
         "text": "2.03",
         "type": "scatter",
         "x": [
          22.76805156723851,
          22.756668249705776,
          22.745284932173043
         ],
         "y": [
          1.2124277141085873,
          1.8710070914773542,
          2.529586468846121
         ]
        },
        {
         "hoverinfo": "name+text",
         "line": {
          "color": "rgb(49, 104, 142)",
          "width": 7
         },
         "mode": "lines",
         "name": "Ni-O",
         "opacity": 0.4,
         "showlegend": false,
         "text": "2.03",
         "type": "scatter",
         "x": [
          8.351754765294993,
          8.341693712825364,
          8.331632660355734
         ],
         "y": [
          2.946660763682699,
          2.287793374346636,
          1.6289259850105737
         ]
        },
        {
         "hoverinfo": "name+text",
         "line": {
          "color": "rgb(49, 104, 142)",
          "width": 7
         },
         "mode": "lines",
         "name": "Ni-O",
         "opacity": 0.4,
         "showlegend": false,
         "text": "2.03",
         "type": "scatter",
         "x": [
          6.2756370960573244,
          5.263852516945337,
          4.25206793783335
         ],
         "y": [
          4.427752612083392,
          4.439557211677558,
          4.451361811271724
         ]
        },
        {
         "hoverinfo": "name+text",
         "line": {
          "color": "rgb(49, 104, 142)",
          "width": 7
         },
         "mode": "lines",
         "name": "Ni-O",
         "opacity": 0.4,
         "showlegend": false,
         "text": "1.99",
         "type": "scatter",
         "x": [
          10.395854607352305,
          9.401012969199435,
          8.406171331046563
         ],
         "y": [
          4.40303895448087,
          4.379109564433096,
          4.355180174385323
         ]
        },
        {
         "hoverinfo": "name+text",
         "line": {
          "color": "rgb(49, 104, 142)",
          "width": 7
         },
         "mode": "lines",
         "name": "Ni-O",
         "opacity": 0.4,
         "showlegend": false,
         "text": "1.99",
         "type": "scatter",
         "x": [
          6.2756370960573244,
          6.206710007381354,
          6.137782918705384
         ],
         "y": [
          4.427752612083392,
          5.105146307861869,
          5.782540003640346
         ]
        },
        {
         "hoverinfo": "name+text",
         "line": {
          "color": "rgb(49, 104, 142)",
          "width": 7
         },
         "mode": "lines",
         "name": "Ni-O",
         "opacity": 0.4,
         "showlegend": false,
         "text": "1.99",
         "type": "scatter",
         "x": [
          24.81370224385273,
          23.821252754521353,
          22.828803265189972
         ],
         "y": [
          5.595866385873816,
          5.623665979462606,
          5.651465573051396
         ]
        },
        {
         "hoverinfo": "name+text",
         "line": {
          "color": "rgb(49, 104, 142)",
          "width": 7
         },
         "mode": "lines",
         "name": "Ni-O",
         "opacity": 0.4,
         "showlegend": false,
         "text": "1.98",
         "type": "scatter",
         "x": [
          6.2756370960573244,
          6.352363114855379,
          6.429089133653433
         ],
         "y": [
          4.427752612083392,
          3.7542310858219325,
          3.080709559560473
         ]
        },
        {
         "hoverinfo": "name+text",
         "line": {
          "color": "rgb(68, 1, 84)",
          "width": 7
         },
         "mode": "lines",
         "name": "Ni-O",
         "opacity": 0.4,
         "showlegend": false,
         "text": "1.98",
         "type": "scatter",
         "x": [
          20.686692998650223,
          20.62195985437994,
          20.55722671010966
         ],
         "y": [
          5.567312600249141,
          4.891288272218025,
          4.215263944186908
         ]
        },
        {
         "hoverinfo": "name+text",
         "line": {
          "color": "rgb(68, 1, 84)",
          "width": 7
         },
         "mode": "lines",
         "name": "Ni-O",
         "opacity": 0.4,
         "showlegend": false,
         "text": "1.96",
         "type": "scatter",
         "x": [
          18.596330302260704,
          19.576778506185182,
          20.55722671010966
         ],
         "y": [
          4.180282737317333,
          4.1977733407521205,
          4.215263944186908
         ]
        },
        {
         "hoverinfo": "name+text",
         "line": {
          "color": "rgb(68, 1, 84)",
          "width": 7
         },
         "mode": "lines",
         "name": "Ni-O",
         "opacity": 0.4,
         "showlegend": false,
         "text": "1.95",
         "type": "scatter",
         "x": [
          10.395854607352305,
          11.369442850033934,
          12.343031092715565
         ],
         "y": [
          4.40303895448087,
          4.4169904024386915,
          4.430941850396513
         ]
        },
        {
         "hoverinfo": "name+text",
         "line": {
          "color": "rgb(68, 1, 84)",
          "width": 7
         },
         "mode": "lines",
         "name": "Ni-O",
         "opacity": 0.4,
         "showlegend": false,
         "text": "1.94",
         "type": "scatter",
         "x": [
          22.76805156723851,
          23.73837156518457,
          24.70869156313063
         ],
         "y": [
          1.2124277141085873,
          1.165241050901662,
          1.1180543876947366
         ]
        },
        {
         "hoverinfo": "name+text",
         "line": {
          "color": "rgb(68, 1, 84)",
          "width": 7
         },
         "mode": "lines",
         "name": "Ni-O",
         "opacity": 0.4,
         "showlegend": false,
         "text": "1.94",
         "type": "scatter",
         "x": [
          18.596330302260704,
          17.627965408747635,
          16.659600515234562
         ],
         "y": [
          4.180282737317333,
          4.1401929929433425,
          4.100103248569352
         ]
        },
        {
         "hoverinfo": "name+text",
         "line": {
          "color": "rgb(68, 1, 84)",
          "width": 7
         },
         "mode": "lines",
         "name": "Ni-O",
         "opacity": 0.4,
         "showlegend": false,
         "text": "1.94",
         "type": "scatter",
         "x": [
          24.81370224385273,
          25.7832320055578,
          26.75276176726287
         ],
         "y": [
          5.595866385873816,
          5.576055917920419,
          5.5562454499670215
         ]
        },
        {
         "hoverinfo": "name+text",
         "line": {
          "color": "rgb(68, 1, 84)",
          "width": 7
         },
         "mode": "lines",
         "name": "Ni-O",
         "opacity": 0.4,
         "showlegend": false,
         "text": "1.94",
         "type": "scatter",
         "x": [
          8.351754765294993,
          8.378963048170778,
          8.406171331046563
         ],
         "y": [
          2.946660763682699,
          3.650920469034011,
          4.355180174385323
         ]
        },
        {
         "hoverinfo": "name+text",
         "line": {
          "color": "rgb(68, 1, 84)",
          "width": 7
         },
         "mode": "lines",
         "name": "Ni-O",
         "opacity": 0.4,
         "showlegend": false,
         "text": "1.94",
         "type": "scatter",
         "x": [
          8.351754765294993,
          9.318244490851912,
          10.28473421640883
         ],
         "y": [
          2.946660763682699,
          2.9939314937311092,
          3.041202223779519
         ]
        },
        {
         "hoverinfo": "name+text",
         "line": {
          "color": "rgb(68, 1, 84)",
          "width": 7
         },
         "mode": "lines",
         "name": "Ni-O",
         "opacity": 0.4,
         "showlegend": false,
         "text": "1.94",
         "type": "scatter",
         "x": [
          2.1646263002030066,
          3.129129940423403,
          4.093633580643799
         ],
         "y": [
          1.3924226333007388,
          1.366503741139088,
          1.340584848977437
         ]
        },
        {
         "hoverinfo": "name+text",
         "line": {
          "color": "rgb(68, 1, 84)",
          "width": 7
         },
         "mode": "lines",
         "name": "Ni-O",
         "opacity": 0.4,
         "showlegend": false,
         "text": "1.94",
         "type": "scatter",
         "x": [
          16.5606722223228,
          15.593227275007706,
          14.62578232769261
         ],
         "y": [
          2.751346087703381,
          2.741897972620924,
          2.7324498575384677
         ]
        },
        {
         "hoverinfo": "name+text",
         "line": {
          "color": "rgb(68, 1, 84)",
          "width": 7
         },
         "mode": "lines",
         "name": "Ni-O",
         "opacity": 0.4,
         "showlegend": false,
         "text": "1.93",
         "type": "scatter",
         "x": [
          16.5606722223228,
          17.52585775115805,
          18.4910432799933
         ],
         "y": [
          2.751346087703381,
          2.7771529532217443,
          2.8029598187401072
         ]
        },
        {
         "hoverinfo": "name+text",
         "line": {
          "color": "rgb(68, 1, 84)",
          "width": 7
         },
         "mode": "lines",
         "name": "Ni-O",
         "opacity": 0.4,
         "showlegend": false,
         "text": "1.93",
         "type": "scatter",
         "x": [
          22.76805156723851,
          21.80386551679765,
          20.83967946635679
         ],
         "y": [
          1.2124277141085873,
          1.1421213365175684,
          1.0718149589265495
         ]
        },
        {
         "hoverinfo": "name+text",
         "line": {
          "color": "rgb(68, 1, 84)",
          "width": 7
         },
         "mode": "lines",
         "name": "Ni-O",
         "opacity": 0.4,
         "showlegend": false,
         "text": "1.93",
         "type": "scatter",
         "x": [
          10.395854607352305,
          10.462654260631075,
          10.529453913909844
         ],
         "y": [
          4.40303895448087,
          5.0844552465144,
          5.7658715385479296
         ]
        },
        {
         "hoverinfo": "name+text",
         "line": {
          "color": "rgb(68, 1, 84)",
          "width": 7
         },
         "mode": "lines",
         "name": "Ni-O",
         "opacity": 0.4,
         "showlegend": false,
         "text": "1.93",
         "type": "scatter",
         "x": [
          2.1646263002030066,
          1.202711471457512,
          0.2407966427120176
         ],
         "y": [
          1.3924226333007388,
          1.4157784304328789,
          1.439134227565019
         ]
        },
        {
         "hoverinfo": "name+text",
         "line": {
          "color": "rgb(68, 1, 84)",
          "width": 7
         },
         "mode": "lines",
         "name": "Ni-O",
         "opacity": 0.4,
         "showlegend": false,
         "text": "1.93",
         "type": "scatter",
         "x": [
          4.19473601946385,
          3.2319880971066848,
          2.2692401747495192
         ],
         "y": [
          -0.03060206542900831,
          0.002312045017329527,
          0.035226155463667363
         ]
        },
        {
         "hoverinfo": "name+text",
         "line": {
          "color": "rgb(68, 1, 84)",
          "width": 7
         },
         "mode": "lines",
         "name": "Ni-O",
         "opacity": 0.4,
         "showlegend": false,
         "text": "1.93",
         "type": "scatter",
         "x": [
          14.501917263926009,
          15.466582758748977,
          16.431248253571948
         ],
         "y": [
          1.3613771829668864,
          1.3718945040307813,
          1.382411825094676
         ]
        },
        {
         "hoverinfo": "name+text",
         "line": {
          "color": "rgb(68, 1, 84)",
          "width": 7
         },
         "mode": "lines",
         "name": "Ni-O",
         "opacity": 0.4,
         "showlegend": false,
         "text": "1.93",
         "type": "scatter",
         "x": [
          8.351754765294993,
          7.390421949474213,
          6.429089133653433
         ],
         "y": [
          2.946660763682699,
          3.013685161621586,
          3.080709559560473
         ]
        },
        {
         "hoverinfo": "name+text",
         "line": {
          "color": "rgb(68, 1, 84)",
          "width": 7
         },
         "mode": "lines",
         "name": "Ni-O",
         "opacity": 0.4,
         "showlegend": false,
         "text": "1.92",
         "type": "scatter",
         "x": [
          10.395854607352305,
          10.340294411880567,
          10.28473421640883
         ],
         "y": [
          4.40303895448087,
          3.7221205891301947,
          3.041202223779519
         ]
        },
        {
         "hoverinfo": "name+text",
         "line": {
          "color": "rgb(68, 1, 84)",
          "width": 7
         },
         "mode": "lines",
         "name": "Ni-O",
         "opacity": 0.4,
         "showlegend": false,
         "text": "1.92",
         "type": "scatter",
         "x": [
          14.501917263926009,
          13.541898257617856,
          12.5818792513097
         ],
         "y": [
          1.3613771829668864,
          1.3465220189869598,
          1.3316668550070334
         ]
        },
        {
         "hoverinfo": "name+text",
         "line": {
          "color": "rgb(68, 1, 84)",
          "width": 7
         },
         "mode": "lines",
         "name": "Ni-O",
         "opacity": 0.4,
         "showlegend": false,
         "text": "1.92",
         "type": "scatter",
         "x": [
          26.856269756903888,
          25.89713381064292,
          24.937997864381956
         ],
         "y": [
          4.194763446643071,
          4.213699474409841,
          4.232635502176611
         ]
        },
        {
         "hoverinfo": "name+text",
         "line": {
          "color": "rgb(68, 1, 84)",
          "width": 7
         },
         "mode": "lines",
         "name": "Ni-O",
         "opacity": 0.4,
         "showlegend": false,
         "text": "1.92",
         "type": "scatter",
         "x": [
          0.13161433411616988,
          1.0882943882205334,
          2.044974442324897
         ],
         "y": [
          2.7992983537135587,
          2.780715821316165,
          2.762133288918771
         ]
        },
        {
         "hoverinfo": "name+text",
         "line": {
          "color": "rgb(68, 1, 84)",
          "width": 7
         },
         "mode": "lines",
         "name": "Ni-O",
         "opacity": 0.4,
         "showlegend": false,
         "text": "1.91",
         "type": "scatter",
         "x": [
          18.596330302260704,
          18.543686791127,
          18.4910432799933
         ],
         "y": [
          4.180282737317333,
          3.49162127802872,
          2.8029598187401072
         ]
        },
        {
         "hoverinfo": "name+text",
         "line": {
          "color": "rgb(68, 1, 84)",
          "width": 7
         },
         "mode": "lines",
         "name": "Ni-O",
         "opacity": 0.4,
         "showlegend": false,
         "text": "1.91",
         "type": "scatter",
         "x": [
          14.501917263926009,
          14.44054020265168,
          14.379163141377353
         ],
         "y": [
          1.3613771829668864,
          0.6809628439019472,
          0.0005485048370078688
         ]
        },
        {
         "hoverinfo": "name+text",
         "line": {
          "color": "rgb(68, 1, 84)",
          "width": 7
         },
         "mode": "lines",
         "name": "Ni-O",
         "opacity": 0.4,
         "showlegend": false,
         "text": "1.91",
         "type": "scatter",
         "x": [
          14.501917263926009,
          14.56384979580931,
          14.62578232769261
         ],
         "y": [
          1.3613771829668864,
          2.046913520252677,
          2.7324498575384677
         ]
        },
        {
         "hoverinfo": "name+text",
         "line": {
          "color": "rgb(68, 1, 84)",
          "width": 7
         },
         "mode": "lines",
         "name": "Ni-O",
         "opacity": 0.4,
         "showlegend": false,
         "text": "1.9",
         "type": "scatter",
         "x": [
          26.856269756903888,
          26.917864264464377,
          26.979458772024866
         ],
         "y": [
          4.194763446643071,
          3.5071328165189413,
          2.8195021863948115
         ]
        },
        {
         "hoverinfo": "name+text",
         "line": {
          "color": "rgb(68, 1, 84)",
          "width": 7
         },
         "mode": "lines",
         "name": "Ni-O",
         "opacity": 0.4,
         "showlegend": false,
         "text": "1.9",
         "type": "scatter",
         "x": [
          0.13161433411616988,
          0.07254794538862215,
          0.013481556661074432
         ],
         "y": [
          2.7992983537135587,
          3.4850439757366045,
          4.17078959775965
         ]
        },
        {
         "hoverinfo": "name+text",
         "line": {
          "color": "rgb(68, 1, 84)",
          "width": 7
         },
         "mode": "lines",
         "name": "Ni-O",
         "opacity": 0.4,
         "showlegend": false,
         "text": "1.9",
         "type": "scatter",
         "x": [
          16.5606722223228,
          16.495960237947372,
          16.431248253571948
         ],
         "y": [
          2.751346087703381,
          2.0668789563990284,
          1.382411825094676
         ]
        },
        {
         "hoverinfo": "name+text",
         "line": {
          "color": "rgb(68, 1, 84)",
          "width": 7
         },
         "mode": "lines",
         "name": "Ni-O",
         "opacity": 0.4,
         "showlegend": false,
         "text": "1.9",
         "type": "scatter",
         "x": [
          26.856269756903888,
          26.80451576208338,
          26.75276176726287
         ],
         "y": [
          4.194763446643071,
          4.875504448305046,
          5.5562454499670215
         ]
        },
        {
         "hoverinfo": "name+text",
         "line": {
          "color": "rgb(68, 1, 84)",
          "width": 7
         },
         "mode": "lines",
         "name": "Ni-O",
         "opacity": 0.4,
         "showlegend": false,
         "text": "1.9",
         "type": "scatter",
         "x": [
          2.1646263002030066,
          2.104800371263952,
          2.044974442324897
         ],
         "y": [
          1.3924226333007388,
          2.077277961109755,
          2.762133288918771
         ]
        },
        {
         "hoverinfo": "name+text",
         "line": {
          "color": "rgb(68, 1, 84)",
          "width": 7
         },
         "mode": "lines",
         "name": "Ni-O",
         "opacity": 0.4,
         "showlegend": false,
         "text": "1.9",
         "type": "scatter",
         "x": [
          12.455001416565816,
          12.39901625464069,
          12.343031092715565
         ],
         "y": [
          5.800222351749138,
          5.1155821010728255,
          4.430941850396513
         ]
        },
        {
         "hoverinfo": "name+text",
         "line": {
          "color": "rgb(68, 1, 84)",
          "width": 7
         },
         "mode": "lines",
         "name": "Ni-O",
         "opacity": 0.4,
         "showlegend": false,
         "text": "1.89",
         "type": "scatter",
         "x": [
          2.1646263002030066,
          2.2169332374762627,
          2.2692401747495192
         ],
         "y": [
          1.3924226333007388,
          0.7138243943822031,
          0.035226155463667363
         ]
        },
        {
         "hoverinfo": "name+text",
         "line": {
          "color": "rgb(68, 1, 84)",
          "width": 7
         },
         "mode": "lines",
         "name": "Ni-O",
         "opacity": 0.4,
         "showlegend": false,
         "text": "1.89",
         "type": "scatter",
         "x": [
          18.596330302260704,
          18.623799263144257,
          18.651268224027806
         ],
         "y": [
          4.180282737317333,
          4.8601970105885375,
          5.540111283859742
         ]
        },
        {
         "marker": {
          "color": "rgb(235,0,0)",
          "size": 15
         },
         "name": "O index 55",
         "opacity": 0.95,
         "showlegend": false,
         "type": "scatter",
         "x": [
          26.979458772024866
         ],
         "y": [
          2.8195021863948115
         ]
        },
        {
         "marker": {
          "color": "rgb(235,0,0)",
          "size": 15
         },
         "name": "O index 54",
         "opacity": 0.95,
         "showlegend": false,
         "type": "scatter",
         "x": [
          26.75276176726287
         ],
         "y": [
          5.5562454499670215
         ]
        },
        {
         "marker": {
          "color": "rgb(235,0,0)",
          "size": 15
         },
         "name": "O index 53",
         "opacity": 0.95,
         "showlegend": false,
         "type": "scatter",
         "x": [
          24.937997864381956
         ],
         "y": [
          4.232635502176611
         ]
        },
        {
         "marker": {
          "color": "rgb(235,0,0)",
          "size": 15
         },
         "name": "O index 52",
         "opacity": 0.95,
         "showlegend": false,
         "type": "scatter",
         "x": [
          6.137782918705384
         ],
         "y": [
          5.782540003640346
         ]
        },
        {
         "marker": {
          "color": "rgb(235,0,0)",
          "size": 15
         },
         "name": "O index 51",
         "opacity": 0.95,
         "showlegend": false,
         "type": "scatter",
         "x": [
          2.2692401747495192
         ],
         "y": [
          0.035226155463667363
         ]
        },
        {
         "marker": {
          "color": "rgb(235,0,0)",
          "size": 15
         },
         "name": "O index 50",
         "opacity": 0.95,
         "showlegend": false,
         "type": "scatter",
         "x": [
          2.044974442324897
         ],
         "y": [
          2.762133288918771
         ]
        },
        {
         "marker": {
          "color": "rgb(235,0,0)",
          "size": 15
         },
         "name": "O index 49",
         "opacity": 0.95,
         "showlegend": false,
         "type": "scatter",
         "x": [
          0.2407966427120176
         ],
         "y": [
          1.439134227565019
         ]
        },
        {
         "marker": {
          "color": "rgb(235,0,0)",
          "size": 15
         },
         "name": "O index 48",
         "opacity": 0.95,
         "showlegend": false,
         "type": "scatter",
         "x": [
          24.70869156313063
         ],
         "y": [
          1.1180543876947366
         ]
        },
        {
         "marker": {
          "color": "rgb(235,0,0)",
          "size": 15
         },
         "name": "O index 47",
         "opacity": 0.95,
         "showlegend": false,
         "type": "scatter",
         "x": [
          0.013481556661074432
         ],
         "y": [
          4.17078959775965
         ]
        },
        {
         "marker": {
          "color": "rgb(235,0,0)",
          "size": 15
         },
         "name": "O index 46",
         "opacity": 0.95,
         "showlegend": false,
         "type": "scatter",
         "x": [
          6.429089133653433
         ],
         "y": [
          3.080709559560473
         ]
        },
        {
         "marker": {
          "color": "rgb(235,0,0)",
          "size": 15
         },
         "name": "O index 45",
         "opacity": 0.95,
         "showlegend": false,
         "type": "scatter",
         "x": [
          4.25206793783335
         ],
         "y": [
          4.451361811271724
         ]
        },
        {
         "marker": {
          "color": "rgb(235,0,0)",
          "size": 15
         },
         "name": "O index 44",
         "opacity": 0.95,
         "showlegend": false,
         "type": "scatter",
         "x": [
          4.093633580643799
         ],
         "y": [
          1.340584848977437
         ]
        },
        {
         "marker": {
          "color": "rgb(235,0,0)",
          "size": 15
         },
         "name": "O index 43",
         "opacity": 0.95,
         "showlegend": false,
         "type": "scatter",
         "x": [
          18.4910432799933
         ],
         "y": [
          2.8029598187401072
         ]
        },
        {
         "marker": {
          "color": "rgb(235,0,0)",
          "size": 15
         },
         "name": "O index 42",
         "opacity": 0.95,
         "showlegend": false,
         "type": "scatter",
         "x": [
          22.745284932173043
         ],
         "y": [
          2.529586468846121
         ]
        },
        {
         "marker": {
          "color": "rgb(235,0,0)",
          "size": 15
         },
         "name": "O index 41",
         "opacity": 0.95,
         "showlegend": false,
         "type": "scatter",
         "x": [
          22.828803265189972
         ],
         "y": [
          5.651465573051396
         ]
        },
        {
         "marker": {
          "color": "rgb(235,0,0)",
          "size": 15
         },
         "name": "O index 40",
         "opacity": 0.95,
         "showlegend": false,
         "type": "scatter",
         "x": [
          18.651268224027806
         ],
         "y": [
          5.540111283859742
         ]
        },
        {
         "marker": {
          "color": "rgb(235,0,0)",
          "size": 15
         },
         "name": "O index 39",
         "opacity": 0.95,
         "showlegend": false,
         "type": "scatter",
         "x": [
          20.55722671010966
         ],
         "y": [
          4.215263944186908
         ]
        },
        {
         "marker": {
          "color": "rgb(235,0,0)",
          "size": 15
         },
         "name": "O index 38",
         "opacity": 0.95,
         "showlegend": false,
         "type": "scatter",
         "x": [
          8.331632660355734
         ],
         "y": [
          1.6289259850105737
         ]
        },
        {
         "marker": {
          "color": "rgb(235,0,0)",
          "size": 15
         },
         "name": "O index 37",
         "opacity": 0.95,
         "showlegend": false,
         "type": "scatter",
         "x": [
          10.529453913909844
         ],
         "y": [
          5.7658715385479296
         ]
        },
        {
         "marker": {
          "color": "rgb(235,0,0)",
          "size": 15
         },
         "name": "O index 36",
         "opacity": 0.95,
         "showlegend": false,
         "type": "scatter",
         "x": [
          14.379163141377353
         ],
         "y": [
          0.0005485048370078688
         ]
        },
        {
         "marker": {
          "color": "rgb(235,0,0)",
          "size": 15
         },
         "name": "O index 35",
         "opacity": 0.95,
         "showlegend": false,
         "type": "scatter",
         "x": [
          14.62578232769261
         ],
         "y": [
          2.7324498575384677
         ]
        },
        {
         "marker": {
          "color": "rgb(235,0,0)",
          "size": 15
         },
         "name": "O index 34",
         "opacity": 0.95,
         "showlegend": false,
         "type": "scatter",
         "x": [
          16.431248253571948
         ],
         "y": [
          1.382411825094676
         ]
        },
        {
         "marker": {
          "color": "rgb(235,0,0)",
          "size": 15
         },
         "name": "O index 33",
         "opacity": 0.95,
         "showlegend": false,
         "type": "scatter",
         "x": [
          20.83967946635679
         ],
         "y": [
          1.0718149589265495
         ]
        },
        {
         "marker": {
          "color": "rgb(235,0,0)",
          "size": 15
         },
         "name": "O index 32",
         "opacity": 0.95,
         "showlegend": false,
         "type": "scatter",
         "x": [
          16.659600515234562
         ],
         "y": [
          4.100103248569352
         ]
        },
        {
         "marker": {
          "color": "rgb(235,0,0)",
          "size": 15
         },
         "name": "O index 31",
         "opacity": 0.95,
         "showlegend": false,
         "type": "scatter",
         "x": [
          8.406171331046563
         ],
         "y": [
          4.355180174385323
         ]
        },
        {
         "marker": {
          "color": "rgb(235,0,0)",
          "size": 15
         },
         "name": "O index 30",
         "opacity": 0.95,
         "showlegend": false,
         "type": "scatter",
         "x": [
          10.28473421640883
         ],
         "y": [
          3.041202223779519
         ]
        },
        {
         "marker": {
          "color": "rgb(235,0,0)",
          "size": 15
         },
         "name": "O index 29",
         "opacity": 0.95,
         "showlegend": false,
         "type": "scatter",
         "x": [
          12.343031092715565
         ],
         "y": [
          4.430941850396513
         ]
        },
        {
         "marker": {
          "color": "rgb(235,0,0)",
          "size": 15
         },
         "name": "O index 28",
         "opacity": 0.95,
         "showlegend": false,
         "type": "scatter",
         "x": [
          12.5818792513097
         ],
         "y": [
          1.3316668550070334
         ]
        },
        {
         "marker": {
          "color": "rgb(77,0,242)",
          "size": 30
         },
         "name": "Ni index 27",
         "opacity": 0.95,
         "showlegend": false,
         "type": "scatter",
         "x": [
          0.13161433411616988
         ],
         "y": [
          2.7992983537135587
         ]
        },
        {
         "marker": {
          "color": "rgb(77,0,242)",
          "size": 30
         },
         "name": "Ni index 26",
         "opacity": 0.95,
         "showlegend": false,
         "type": "scatter",
         "x": [
          24.81370224385273
         ],
         "y": [
          5.595866385873816
         ]
        },
        {
         "marker": {
          "color": "rgb(77,0,242)",
          "size": 30
         },
         "name": "Ni index 25",
         "opacity": 0.95,
         "showlegend": false,
         "type": "scatter",
         "x": [
          26.856269756903888
         ],
         "y": [
          4.194763446643071
         ]
        },
        {
         "marker": {
          "color": "rgb(77,0,242)",
          "size": 30
         },
         "name": "Ni index 24",
         "opacity": 0.95,
         "showlegend": false,
         "type": "scatter",
         "x": [
          4.19473601946385
         ],
         "y": [
          -0.03060206542900831
         ]
        },
        {
         "marker": {
          "color": "rgb(77,0,242)",
          "size": 30
         },
         "name": "Ni index 23",
         "opacity": 0.95,
         "showlegend": false,
         "type": "scatter",
         "x": [
          6.2756370960573244
         ],
         "y": [
          4.427752612083392
         ]
        },
        {
         "marker": {
          "color": "rgb(77,0,242)",
          "size": 30
         },
         "name": "Ni index 22",
         "opacity": 0.95,
         "showlegend": false,
         "type": "scatter",
         "x": [
          2.1646263002030066
         ],
         "y": [
          1.3924226333007388
         ]
        },
        {
         "marker": {
          "color": "rgb(77,0,242)",
          "size": 30
         },
         "name": "Ni index 21",
         "opacity": 0.95,
         "showlegend": false,
         "type": "scatter",
         "x": [
          16.5606722223228
         ],
         "y": [
          2.751346087703381
         ]
        },
        {
         "marker": {
          "color": "rgb(77,0,242)",
          "size": 30
         },
         "name": "Ni index 20",
         "opacity": 0.95,
         "showlegend": false,
         "type": "scatter",
         "x": [
          20.686692998650223
         ],
         "y": [
          5.567312600249141
         ]
        },
        {
         "marker": {
          "color": "rgb(77,0,242)",
          "size": 30
         },
         "name": "Ni index 19",
         "opacity": 0.95,
         "showlegend": false,
         "type": "scatter",
         "x": [
          18.596330302260704
         ],
         "y": [
          4.180282737317333
         ]
        },
        {
         "marker": {
          "color": "rgb(77,0,242)",
          "size": 30
         },
         "name": "Ni index 18",
         "opacity": 0.95,
         "showlegend": false,
         "type": "scatter",
         "x": [
          22.76805156723851
         ],
         "y": [
          1.2124277141085873
         ]
        },
        {
         "marker": {
          "color": "rgb(77,0,242)",
          "size": 30
         },
         "name": "Ni index 17",
         "opacity": 0.95,
         "showlegend": false,
         "type": "scatter",
         "x": [
          8.351754765294993
         ],
         "y": [
          2.946660763682699
         ]
        },
        {
         "marker": {
          "color": "rgb(77,0,242)",
          "size": 30
         },
         "name": "Ni index 16",
         "opacity": 0.95,
         "showlegend": false,
         "type": "scatter",
         "x": [
          12.455001416565816
         ],
         "y": [
          5.800222351749138
         ]
        },
        {
         "marker": {
          "color": "rgb(77,0,242)",
          "size": 30
         },
         "name": "Ni index 15",
         "opacity": 0.95,
         "showlegend": false,
         "type": "scatter",
         "x": [
          10.395854607352305
         ],
         "y": [
          4.40303895448087
         ]
        },
        {
         "marker": {
          "color": "rgb(77,0,242)",
          "size": 30
         },
         "name": "Ni index 14",
         "opacity": 0.95,
         "showlegend": false,
         "type": "scatter",
         "x": [
          14.501917263926009
         ],
         "y": [
          1.3613771829668864
         ]
        },
        {
         "marker": {
          "color": "grey",
          "size": 20
         },
         "name": "Li index 13",
         "opacity": 0.5,
         "showlegend": false,
         "type": "scatter",
         "x": [
          24.769147461139806
         ],
         "y": [
          2.6604620246464386
         ]
        },
        {
         "marker": {
          "color": "grey",
          "size": 20
         },
         "name": "Li index 12",
         "opacity": 0.5,
         "showlegend": false,
         "type": "scatter",
         "x": [
          4.206505097265832
         ],
         "y": [
          2.929677588428269
         ]
        },
        {
         "marker": {
          "color": "grey",
          "size": 20
         },
         "name": "Li index 11",
         "opacity": 0.5,
         "showlegend": false,
         "type": "scatter",
         "x": [
          2.2050152586693685
         ],
         "y": [
          4.304043183706218
         ]
        },
        {
         "marker": {
          "color": "grey",
          "size": 20
         },
         "name": "Li index 10",
         "opacity": 0.5,
         "showlegend": false,
         "type": "scatter",
         "x": [
          0.14204250512802855
         ],
         "y": [
          -0.1552132439108596
         ]
        },
        {
         "marker": {
          "color": "grey",
          "size": 20
         },
         "name": "Li index 9",
         "opacity": 0.5,
         "showlegend": false,
         "type": "scatter",
         "x": [
          26.867724491378063
         ],
         "y": [
          1.2910165268587008
         ]
        },
        {
         "marker": {
          "color": "grey",
          "size": 20
         },
         "name": "Li index 8",
         "opacity": 0.5,
         "showlegend": false,
         "type": "scatter",
         "x": [
          6.308140050092144
         ],
         "y": [
          1.4997319946351455
         ]
        },
        {
         "marker": {
          "color": "grey",
          "size": 20
         },
         "name": "Li index 7",
         "opacity": 0.5,
         "showlegend": false,
         "type": "scatter",
         "x": [
          20.733762503499957
         ],
         "y": [
          2.667205162161392
         ]
        },
        {
         "marker": {
          "color": "grey",
          "size": 20
         },
         "name": "Li index 6",
         "opacity": 0.5,
         "showlegend": false,
         "type": "scatter",
         "x": [
          22.757815099838293
         ],
         "y": [
          4.022045230566923
         ]
        },
        {
         "marker": {
          "color": "grey",
          "size": 20
         },
         "name": "Li index 5",
         "opacity": 0.5,
         "showlegend": false,
         "type": "scatter",
         "x": [
          12.437659245392942
         ],
         "y": [
          2.8787855658593875
         ]
        },
        {
         "marker": {
          "color": "grey",
          "size": 20
         },
         "name": "Li index 4",
         "opacity": 0.5,
         "showlegend": false,
         "type": "scatter",
         "x": [
          14.518439401829113
         ],
         "y": [
          4.260345790139841
         ]
        },
        {
         "marker": {
          "color": "grey",
          "size": 20
         },
         "name": "Li index 3",
         "opacity": 0.5,
         "showlegend": false,
         "type": "scatter",
         "x": [
          16.601059409335427
         ],
         "y": [
          5.703228854930272
         ]
        },
        {
         "marker": {
          "color": "grey",
          "size": 20
         },
         "name": "Li index 2",
         "opacity": 0.5,
         "showlegend": false,
         "type": "scatter",
         "x": [
          18.63786967592335
         ],
         "y": [
          1.2237680866775786
         ]
        },
        {
         "marker": {
          "color": "grey",
          "size": 20
         },
         "name": "Li index 1",
         "opacity": 0.5,
         "showlegend": false,
         "type": "scatter",
         "x": [
          8.319453345912919
         ],
         "y": [
          0.13583655061363306
         ]
        },
        {
         "marker": {
          "color": "grey",
          "size": 20
         },
         "name": "Li index 0",
         "opacity": 0.5,
         "showlegend": false,
         "type": "scatter",
         "x": [
          10.343344139429075
         ],
         "y": [
          1.478123820007753
         ]
        }
       ],
       "layout": {
        "annotations": [
         {
          "showarrow": false,
          "text": "a",
          "x": 0.2,
          "y": 6.0400540000000005
         },
         {
          "showarrow": false,
          "text": "b",
          "x": 0.2,
          "y": 0.2
         },
         {
          "showarrow": false,
          "text": "c",
          "x": 28.97,
          "y": 0.2
         }
        ],
        "coloraxis": {
         "showscale": false
        },
        "hovermode": "closest",
        "margin": {
         "b": 50,
         "l": 50,
         "r": 50,
         "t": 50
        },
        "paper_bgcolor": "rgb(0,0,0,0)",
        "plot_bgcolor": "rgb(0,0,0,0)",
        "showlegend": false,
        "template": {
         "data": {
          "bar": [
           {
            "error_x": {
             "color": "#2a3f5f"
            },
            "error_y": {
             "color": "#2a3f5f"
            },
            "marker": {
             "line": {
              "color": "#E5ECF6",
              "width": 0.5
             },
             "pattern": {
              "fillmode": "overlay",
              "size": 10,
              "solidity": 0.2
             }
            },
            "type": "bar"
           }
          ],
          "barpolar": [
           {
            "marker": {
             "line": {
              "color": "#E5ECF6",
              "width": 0.5
             },
             "pattern": {
              "fillmode": "overlay",
              "size": 10,
              "solidity": 0.2
             }
            },
            "type": "barpolar"
           }
          ],
          "carpet": [
           {
            "aaxis": {
             "endlinecolor": "#2a3f5f",
             "gridcolor": "white",
             "linecolor": "white",
             "minorgridcolor": "white",
             "startlinecolor": "#2a3f5f"
            },
            "baxis": {
             "endlinecolor": "#2a3f5f",
             "gridcolor": "white",
             "linecolor": "white",
             "minorgridcolor": "white",
             "startlinecolor": "#2a3f5f"
            },
            "type": "carpet"
           }
          ],
          "choropleth": [
           {
            "colorbar": {
             "outlinewidth": 0,
             "ticks": ""
            },
            "type": "choropleth"
           }
          ],
          "contour": [
           {
            "colorbar": {
             "outlinewidth": 0,
             "ticks": ""
            },
            "colorscale": [
             [
              0,
              "#0d0887"
             ],
             [
              0.1111111111111111,
              "#46039f"
             ],
             [
              0.2222222222222222,
              "#7201a8"
             ],
             [
              0.3333333333333333,
              "#9c179e"
             ],
             [
              0.4444444444444444,
              "#bd3786"
             ],
             [
              0.5555555555555556,
              "#d8576b"
             ],
             [
              0.6666666666666666,
              "#ed7953"
             ],
             [
              0.7777777777777778,
              "#fb9f3a"
             ],
             [
              0.8888888888888888,
              "#fdca26"
             ],
             [
              1,
              "#f0f921"
             ]
            ],
            "type": "contour"
           }
          ],
          "contourcarpet": [
           {
            "colorbar": {
             "outlinewidth": 0,
             "ticks": ""
            },
            "type": "contourcarpet"
           }
          ],
          "heatmap": [
           {
            "colorbar": {
             "outlinewidth": 0,
             "ticks": ""
            },
            "colorscale": [
             [
              0,
              "#0d0887"
             ],
             [
              0.1111111111111111,
              "#46039f"
             ],
             [
              0.2222222222222222,
              "#7201a8"
             ],
             [
              0.3333333333333333,
              "#9c179e"
             ],
             [
              0.4444444444444444,
              "#bd3786"
             ],
             [
              0.5555555555555556,
              "#d8576b"
             ],
             [
              0.6666666666666666,
              "#ed7953"
             ],
             [
              0.7777777777777778,
              "#fb9f3a"
             ],
             [
              0.8888888888888888,
              "#fdca26"
             ],
             [
              1,
              "#f0f921"
             ]
            ],
            "type": "heatmap"
           }
          ],
          "heatmapgl": [
           {
            "colorbar": {
             "outlinewidth": 0,
             "ticks": ""
            },
            "colorscale": [
             [
              0,
              "#0d0887"
             ],
             [
              0.1111111111111111,
              "#46039f"
             ],
             [
              0.2222222222222222,
              "#7201a8"
             ],
             [
              0.3333333333333333,
              "#9c179e"
             ],
             [
              0.4444444444444444,
              "#bd3786"
             ],
             [
              0.5555555555555556,
              "#d8576b"
             ],
             [
              0.6666666666666666,
              "#ed7953"
             ],
             [
              0.7777777777777778,
              "#fb9f3a"
             ],
             [
              0.8888888888888888,
              "#fdca26"
             ],
             [
              1,
              "#f0f921"
             ]
            ],
            "type": "heatmapgl"
           }
          ],
          "histogram": [
           {
            "marker": {
             "pattern": {
              "fillmode": "overlay",
              "size": 10,
              "solidity": 0.2
             }
            },
            "type": "histogram"
           }
          ],
          "histogram2d": [
           {
            "colorbar": {
             "outlinewidth": 0,
             "ticks": ""
            },
            "colorscale": [
             [
              0,
              "#0d0887"
             ],
             [
              0.1111111111111111,
              "#46039f"
             ],
             [
              0.2222222222222222,
              "#7201a8"
             ],
             [
              0.3333333333333333,
              "#9c179e"
             ],
             [
              0.4444444444444444,
              "#bd3786"
             ],
             [
              0.5555555555555556,
              "#d8576b"
             ],
             [
              0.6666666666666666,
              "#ed7953"
             ],
             [
              0.7777777777777778,
              "#fb9f3a"
             ],
             [
              0.8888888888888888,
              "#fdca26"
             ],
             [
              1,
              "#f0f921"
             ]
            ],
            "type": "histogram2d"
           }
          ],
          "histogram2dcontour": [
           {
            "colorbar": {
             "outlinewidth": 0,
             "ticks": ""
            },
            "colorscale": [
             [
              0,
              "#0d0887"
             ],
             [
              0.1111111111111111,
              "#46039f"
             ],
             [
              0.2222222222222222,
              "#7201a8"
             ],
             [
              0.3333333333333333,
              "#9c179e"
             ],
             [
              0.4444444444444444,
              "#bd3786"
             ],
             [
              0.5555555555555556,
              "#d8576b"
             ],
             [
              0.6666666666666666,
              "#ed7953"
             ],
             [
              0.7777777777777778,
              "#fb9f3a"
             ],
             [
              0.8888888888888888,
              "#fdca26"
             ],
             [
              1,
              "#f0f921"
             ]
            ],
            "type": "histogram2dcontour"
           }
          ],
          "mesh3d": [
           {
            "colorbar": {
             "outlinewidth": 0,
             "ticks": ""
            },
            "type": "mesh3d"
           }
          ],
          "parcoords": [
           {
            "line": {
             "colorbar": {
              "outlinewidth": 0,
              "ticks": ""
             }
            },
            "type": "parcoords"
           }
          ],
          "pie": [
           {
            "automargin": true,
            "type": "pie"
           }
          ],
          "scatter": [
           {
            "fillpattern": {
             "fillmode": "overlay",
             "size": 10,
             "solidity": 0.2
            },
            "type": "scatter"
           }
          ],
          "scatter3d": [
           {
            "line": {
             "colorbar": {
              "outlinewidth": 0,
              "ticks": ""
             }
            },
            "marker": {
             "colorbar": {
              "outlinewidth": 0,
              "ticks": ""
             }
            },
            "type": "scatter3d"
           }
          ],
          "scattercarpet": [
           {
            "marker": {
             "colorbar": {
              "outlinewidth": 0,
              "ticks": ""
             }
            },
            "type": "scattercarpet"
           }
          ],
          "scattergeo": [
           {
            "marker": {
             "colorbar": {
              "outlinewidth": 0,
              "ticks": ""
             }
            },
            "type": "scattergeo"
           }
          ],
          "scattergl": [
           {
            "marker": {
             "colorbar": {
              "outlinewidth": 0,
              "ticks": ""
             }
            },
            "type": "scattergl"
           }
          ],
          "scattermapbox": [
           {
            "marker": {
             "colorbar": {
              "outlinewidth": 0,
              "ticks": ""
             }
            },
            "type": "scattermapbox"
           }
          ],
          "scatterpolar": [
           {
            "marker": {
             "colorbar": {
              "outlinewidth": 0,
              "ticks": ""
             }
            },
            "type": "scatterpolar"
           }
          ],
          "scatterpolargl": [
           {
            "marker": {
             "colorbar": {
              "outlinewidth": 0,
              "ticks": ""
             }
            },
            "type": "scatterpolargl"
           }
          ],
          "scatterternary": [
           {
            "marker": {
             "colorbar": {
              "outlinewidth": 0,
              "ticks": ""
             }
            },
            "type": "scatterternary"
           }
          ],
          "surface": [
           {
            "colorbar": {
             "outlinewidth": 0,
             "ticks": ""
            },
            "colorscale": [
             [
              0,
              "#0d0887"
             ],
             [
              0.1111111111111111,
              "#46039f"
             ],
             [
              0.2222222222222222,
              "#7201a8"
             ],
             [
              0.3333333333333333,
              "#9c179e"
             ],
             [
              0.4444444444444444,
              "#bd3786"
             ],
             [
              0.5555555555555556,
              "#d8576b"
             ],
             [
              0.6666666666666666,
              "#ed7953"
             ],
             [
              0.7777777777777778,
              "#fb9f3a"
             ],
             [
              0.8888888888888888,
              "#fdca26"
             ],
             [
              1,
              "#f0f921"
             ]
            ],
            "type": "surface"
           }
          ],
          "table": [
           {
            "cells": {
             "fill": {
              "color": "#EBF0F8"
             },
             "line": {
              "color": "white"
             }
            },
            "header": {
             "fill": {
              "color": "#C8D4E3"
             },
             "line": {
              "color": "white"
             }
            },
            "type": "table"
           }
          ]
         },
         "layout": {
          "annotationdefaults": {
           "arrowcolor": "#2a3f5f",
           "arrowhead": 0,
           "arrowwidth": 1
          },
          "autotypenumbers": "strict",
          "coloraxis": {
           "colorbar": {
            "outlinewidth": 0,
            "ticks": ""
           }
          },
          "colorscale": {
           "diverging": [
            [
             0,
             "#8e0152"
            ],
            [
             0.1,
             "#c51b7d"
            ],
            [
             0.2,
             "#de77ae"
            ],
            [
             0.3,
             "#f1b6da"
            ],
            [
             0.4,
             "#fde0ef"
            ],
            [
             0.5,
             "#f7f7f7"
            ],
            [
             0.6,
             "#e6f5d0"
            ],
            [
             0.7,
             "#b8e186"
            ],
            [
             0.8,
             "#7fbc41"
            ],
            [
             0.9,
             "#4d9221"
            ],
            [
             1,
             "#276419"
            ]
           ],
           "sequential": [
            [
             0,
             "#0d0887"
            ],
            [
             0.1111111111111111,
             "#46039f"
            ],
            [
             0.2222222222222222,
             "#7201a8"
            ],
            [
             0.3333333333333333,
             "#9c179e"
            ],
            [
             0.4444444444444444,
             "#bd3786"
            ],
            [
             0.5555555555555556,
             "#d8576b"
            ],
            [
             0.6666666666666666,
             "#ed7953"
            ],
            [
             0.7777777777777778,
             "#fb9f3a"
            ],
            [
             0.8888888888888888,
             "#fdca26"
            ],
            [
             1,
             "#f0f921"
            ]
           ],
           "sequentialminus": [
            [
             0,
             "#0d0887"
            ],
            [
             0.1111111111111111,
             "#46039f"
            ],
            [
             0.2222222222222222,
             "#7201a8"
            ],
            [
             0.3333333333333333,
             "#9c179e"
            ],
            [
             0.4444444444444444,
             "#bd3786"
            ],
            [
             0.5555555555555556,
             "#d8576b"
            ],
            [
             0.6666666666666666,
             "#ed7953"
            ],
            [
             0.7777777777777778,
             "#fb9f3a"
            ],
            [
             0.8888888888888888,
             "#fdca26"
            ],
            [
             1,
             "#f0f921"
            ]
           ]
          },
          "colorway": [
           "#636efa",
           "#EF553B",
           "#00cc96",
           "#ab63fa",
           "#FFA15A",
           "#19d3f3",
           "#FF6692",
           "#B6E880",
           "#FF97FF",
           "#FECB52"
          ],
          "font": {
           "color": "#2a3f5f"
          },
          "geo": {
           "bgcolor": "white",
           "lakecolor": "white",
           "landcolor": "#E5ECF6",
           "showlakes": true,
           "showland": true,
           "subunitcolor": "white"
          },
          "hoverlabel": {
           "align": "left"
          },
          "hovermode": "closest",
          "mapbox": {
           "style": "light"
          },
          "paper_bgcolor": "white",
          "plot_bgcolor": "#E5ECF6",
          "polar": {
           "angularaxis": {
            "gridcolor": "white",
            "linecolor": "white",
            "ticks": ""
           },
           "bgcolor": "#E5ECF6",
           "radialaxis": {
            "gridcolor": "white",
            "linecolor": "white",
            "ticks": ""
           }
          },
          "scene": {
           "xaxis": {
            "backgroundcolor": "#E5ECF6",
            "gridcolor": "white",
            "gridwidth": 2,
            "linecolor": "white",
            "showbackground": true,
            "ticks": "",
            "zerolinecolor": "white"
           },
           "yaxis": {
            "backgroundcolor": "#E5ECF6",
            "gridcolor": "white",
            "gridwidth": 2,
            "linecolor": "white",
            "showbackground": true,
            "ticks": "",
            "zerolinecolor": "white"
           },
           "zaxis": {
            "backgroundcolor": "#E5ECF6",
            "gridcolor": "white",
            "gridwidth": 2,
            "linecolor": "white",
            "showbackground": true,
            "ticks": "",
            "zerolinecolor": "white"
           }
          },
          "shapedefaults": {
           "line": {
            "color": "#2a3f5f"
           }
          },
          "ternary": {
           "aaxis": {
            "gridcolor": "white",
            "linecolor": "white",
            "ticks": ""
           },
           "baxis": {
            "gridcolor": "white",
            "linecolor": "white",
            "ticks": ""
           },
           "bgcolor": "#E5ECF6",
           "caxis": {
            "gridcolor": "white",
            "linecolor": "white",
            "ticks": ""
           }
          },
          "title": {
           "x": 0.05
          },
          "xaxis": {
           "automargin": true,
           "gridcolor": "white",
           "linecolor": "white",
           "ticks": "",
           "title": {
            "standoff": 15
           },
           "zerolinecolor": "white",
           "zerolinewidth": 2
          },
          "yaxis": {
           "automargin": true,
           "gridcolor": "white",
           "linecolor": "white",
           "ticks": "",
           "title": {
            "standoff": 15
           },
           "zerolinecolor": "white",
           "zerolinewidth": 2
          }
         }
        },
        "xaxis": {
         "visible": false
        },
        "yaxis": {
         "scaleanchor": "x",
         "visible": false
        }
       }
      }
     },
     "metadata": {},
     "output_type": "display_data"
    }
   ],
   "source": [
    "ws.fig.show()"
   ]
  },
  {
   "cell_type": "code",
   "execution_count": null,
   "metadata": {},
   "outputs": [],
   "source": []
  }
 ],
 "metadata": {
  "kernelspec": {
   "display_name": "siman_stable",
   "language": "python",
   "name": "python3"
  },
  "language_info": {
   "codemirror_mode": {
    "name": "ipython",
    "version": 3
   },
   "file_extension": ".py",
   "mimetype": "text/x-python",
   "name": "python",
   "nbconvert_exporter": "python",
   "pygments_lexer": "ipython3",
   "version": "3.11.3"
  }
 },
 "nbformat": 4,
 "nbformat_minor": 2
}
